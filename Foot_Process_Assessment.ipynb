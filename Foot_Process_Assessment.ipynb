{
 "cells": [
  {
   "cell_type": "code",
   "execution_count": null,
   "metadata": {
    "ExecuteTime": {
     "end_time": "2021-03-18T08:17:01.302016Z",
     "start_time": "2021-03-18T08:17:00.968480Z"
    }
   },
   "outputs": [],
   "source": [
    "import os, glob\n",
    "import numpy as np\n",
    "import pandas as pd\n",
    "from PIL import Image"
   ]
  },
  {
   "cell_type": "code",
   "execution_count": null,
   "metadata": {
    "ExecuteTime": {
     "end_time": "2021-03-18T08:17:03.651116Z",
     "start_time": "2021-03-18T08:17:03.646136Z"
    }
   },
   "outputs": [],
   "source": [
    "# Place 128*128 pixel cut tiff images under the file_directory that you define below\n",
    "file_directory = '/XXX/XXX/XXX/XXX/XXX'\n",
    "img_list = sorted(glob.glob(file_directory + '/*.tif'))"
   ]
  },
  {
   "cell_type": "code",
   "execution_count": null,
   "metadata": {
    "ExecuteTime": {
     "end_time": "2021-03-18T08:17:26.716744Z",
     "start_time": "2021-03-18T08:17:26.596630Z"
    }
   },
   "outputs": [],
   "source": [
    "# K:fig center\n",
    "# a: outer side of concentric square\n",
    "# b: inner side of concentric square\n",
    "K = 64  # image size 128/2 = 64\n",
    "a = 16  # 64/4 = 16\n",
    "b = 4   # 64/16 = 4\n",
    "\n",
    "file_name = []\n",
    "results = []\n",
    "for i in img_list:\n",
    "    # Fourier transform\n",
    "    img = Image.open(i).convert(\"L\")\n",
    "    f_img = np.fft.fft2(img)\n",
    "    f_img = np.fft.fftshift(f_img)\n",
    "    # Concentric square of the power spectrum\n",
    "    f_img[0:K-a, :] = [0]\n",
    "    f_img[K+a+1:, :] = [0]\n",
    "    f_img[:, 0:K-a] = [0]\n",
    "    f_img[:, K+a+1:] = [0]\n",
    "    f_img[K-b:K+b+1,K-b:K+b+1] =[0]\n",
    "    # Calculate values within the concentric square\n",
    "    mag_del = np.abs(f_img)\n",
    "    mag_del_log_sum = np.sum(np.log(1 + mag_del))\n",
    "    results.append(mag_del_log_sum)\n",
    "    # Obtain file names\n",
    "    file_name.append(os.path.basename(i))"
   ]
  },
  {
   "cell_type": "code",
   "execution_count": null,
   "metadata": {
    "ExecuteTime": {
     "end_time": "2021-03-18T08:17:45.844974Z",
     "start_time": "2021-03-18T08:17:45.822635Z"
    }
   },
   "outputs": [],
   "source": [
    "# save the results\n",
    "df = pd.DataFrame([file_name, results]).T\n",
    "df.to_csv('calculated_results.csv',  header=False, index=False)"
   ]
  }
 ],
 "metadata": {
  "kernelspec": {
   "display_name": "Python 3",
   "language": "python",
   "name": "python3"
  },
  "language_info": {
   "codemirror_mode": {
    "name": "ipython",
    "version": 3
   },
   "file_extension": ".py",
   "mimetype": "text/x-python",
   "name": "python",
   "nbconvert_exporter": "python",
   "pygments_lexer": "ipython3",
   "version": "3.6.11"
  },
  "varInspector": {
   "cols": {
    "lenName": 16,
    "lenType": 16,
    "lenVar": 40
   },
   "kernels_config": {
    "python": {
     "delete_cmd_postfix": "",
     "delete_cmd_prefix": "del ",
     "library": "var_list.py",
     "varRefreshCmd": "print(var_dic_list())"
    },
    "r": {
     "delete_cmd_postfix": ") ",
     "delete_cmd_prefix": "rm(",
     "library": "var_list.r",
     "varRefreshCmd": "cat(var_dic_list()) "
    }
   },
   "types_to_exclude": [
    "module",
    "function",
    "builtin_function_or_method",
    "instance",
    "_Feature"
   ],
   "window_display": false
  }
 },
 "nbformat": 4,
 "nbformat_minor": 2
}
