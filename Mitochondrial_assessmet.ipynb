{
 "cells": [
  {
   "cell_type": "code",
   "execution_count": null,
   "metadata": {
    "ExecuteTime": {
     "end_time": "2021-03-20T11:26:18.599435Z",
     "start_time": "2021-03-20T11:26:18.418147Z"
    }
   },
   "outputs": [],
   "source": [
    "import os, glob\n",
    "import numpy as np\n",
    "import pandas as pd\n",
    "from PIL import Image, ImageDraw, ImageFilter"
   ]
  },
  {
   "cell_type": "code",
   "execution_count": null,
   "metadata": {
    "ExecuteTime": {
     "end_time": "2021-03-20T11:28:46.226143Z",
     "start_time": "2021-03-20T11:28:46.219816Z"
    }
   },
   "outputs": [],
   "source": [
    "# Place 128*128 pixel cut tiff images under the file_directory that you define below\n",
    "file_directory = '/XXX/XXX/XXX/XXX/XXX'\n",
    "img_list = sorted(glob.glob(file_directory + '/*.tif'))"
   ]
  },
  {
   "cell_type": "code",
   "execution_count": null,
   "metadata": {
    "ExecuteTime": {
     "end_time": "2021-03-20T11:28:46.684313Z",
     "start_time": "2021-03-20T11:28:46.667870Z"
    }
   },
   "outputs": [],
   "source": [
    "# The following function was adopted from \n",
    "# https://note.nkmk.me/python-pillow-square-circle-thumbnail/\n",
    "\n",
    "def mask_circle_solid(pil_img, background_color, blur_radius, offset=0):\n",
    "        background = Image.new(pil_img.mode, pil_img.size, background_color)\n",
    "        offset = blur_radius * 2 + offset\n",
    "        mask = Image.new(\"L\", pil_img.size, 0)\n",
    "        draw = ImageDraw.Draw(mask)\n",
    "        draw.ellipse((offset, offset, pil_img.size[0] - offset, pil_img.size[1] - offset), fill=255)\n",
    "        mask = mask.filter(ImageFilter.GaussianBlur(blur_radius))\n",
    "        return Image.composite(pil_img, background, mask)\n",
    "    \n",
    "# The following functions were adopted from \n",
    "# https://teratail.com/questions/157585\n",
    "\n",
    "def complex_plane(width):\n",
    "    half_width = width // 2\n",
    "    re = np.array(range(width)) - half_width\n",
    "    im = - re\n",
    "    re, im = np.meshgrid(re, im)\n",
    "    return re + im * 1j\n",
    "    \n",
    "def aggregate_in_angle(agg_fun, spectrum, min_angle, max_angle):\n",
    "    width = spectrum.shape[0]\n",
    "    assert spectrum.shape[1] == width\n",
    "    min_radius, max_radius = 0, width // 2\n",
    "    assert 0 <= min_angle < max_angle <= 180  # 単位はdegree\n",
    "    cp = complex_plane(width)\n",
    "    cp_mag = np.abs(cp)\n",
    "    in_radius = np.logical_and(min_radius < cp_mag, cp_mag < max_radius)\n",
    "    cp_angle = np.angle(cp, deg=True)\n",
    "    in_angle = np.logical_and(min_angle <= cp_angle, cp_angle < max_angle)\n",
    "    return agg_fun(spectrum[np.logical_and(in_radius, in_angle)])\n",
    "    \n",
    "def test(spectrum, angle_gap):\n",
    "    means = [aggregate_in_angle(np.mean, spectrum, angle, angle + angle_gap) for angle in range(0, 180, angle_gap)]\n",
    "    return means"
   ]
  },
  {
   "cell_type": "code",
   "execution_count": null,
   "metadata": {
    "ExecuteTime": {
     "end_time": "2021-03-20T11:28:51.452443Z",
     "start_time": "2021-03-20T11:28:49.971557Z"
    }
   },
   "outputs": [],
   "source": [
    "Img_list = []\n",
    "MagMin_list = []\n",
    "MagMax_list = []\n",
    "DamageIndex_list = []\n",
    "\n",
    "for i in img_list:\n",
    "    im_circ = mask_circle_solid(Image.open(i), (0, 0, 0), 2).convert(\"L\")\n",
    "    f_im_circ = np.fft.fft2(im_circ)\n",
    "    f_im_circ = np.fft.fftshift(f_im_circ)\n",
    "    mag = 20*np.log(np.abs(f_im_circ))\n",
    "    MagMin = np.min(test(mag,45))\n",
    "    MagMax = np.max(test(mag,45))\n",
    "    DamageIndex = MagMin/MagMax\n",
    "    Img_list.append(os.path.basename(i))\n",
    "    MagMin_list.append(MagMin)\n",
    "    MagMax_list.append(MagMax)\n",
    "    DamageIndex_list.append(DamageIndex)"
   ]
  },
  {
   "cell_type": "code",
   "execution_count": null,
   "metadata": {
    "ExecuteTime": {
     "end_time": "2021-03-20T11:28:55.729446Z",
     "start_time": "2021-03-20T11:28:55.695972Z"
    }
   },
   "outputs": [],
   "source": [
    "df = pd.DataFrame([Img_list, MagMin_list, MagMax_list, DamageIndex_list]).T\n",
    "df.to_csv(\"DamageIndex.csv\", header=False, index=False)"
   ]
  }
 ],
 "metadata": {
  "kernelspec": {
   "display_name": "Python 3",
   "language": "python",
   "name": "python3"
  },
  "language_info": {
   "codemirror_mode": {
    "name": "ipython",
    "version": 3
   },
   "file_extension": ".py",
   "mimetype": "text/x-python",
   "name": "python",
   "nbconvert_exporter": "python",
   "pygments_lexer": "ipython3",
   "version": "3.6.11"
  },
  "varInspector": {
   "cols": {
    "lenName": 16,
    "lenType": 16,
    "lenVar": 40
   },
   "kernels_config": {
    "python": {
     "delete_cmd_postfix": "",
     "delete_cmd_prefix": "del ",
     "library": "var_list.py",
     "varRefreshCmd": "print(var_dic_list())"
    },
    "r": {
     "delete_cmd_postfix": ") ",
     "delete_cmd_prefix": "rm(",
     "library": "var_list.r",
     "varRefreshCmd": "cat(var_dic_list()) "
    }
   },
   "types_to_exclude": [
    "module",
    "function",
    "builtin_function_or_method",
    "instance",
    "_Feature"
   ],
   "window_display": false
  }
 },
 "nbformat": 4,
 "nbformat_minor": 2
}
